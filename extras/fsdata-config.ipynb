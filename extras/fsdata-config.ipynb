{
 "cells": [
  {
   "cell_type": "code",
   "execution_count": 23,
   "metadata": {},
   "outputs": [
    {
     "data": {
      "text/plain": [
       "['../tests/config']"
      ]
     },
     "execution_count": 23,
     "metadata": {},
     "output_type": "execute_result"
    }
   ],
   "source": [
    "import os\n",
    "import sys\n",
    "\n",
    "import fsdata\n",
    "\n",
    "from pathlib import Path\n",
    "\n",
    "from fsdata.config import config_dirs, read_config\n",
    "\n",
    "os.environ[\"WORKDIR\"] = Path.cwd().parent.as_posix()\n",
    "os.environ[\"FSDATA_CONFIG_DIRS\"] = \"../tests/config\"\n",
    "\n",
    "config_dirs()"
   ]
  },
  {
   "cell_type": "code",
   "execution_count": 24,
   "metadata": {},
   "outputs": [
    {
     "name": "stdout",
     "output_type": "stream",
     "text": [
      "[testdata]\n",
      "path = $WORKDIR/tests/data\n",
      "\n"
     ]
    }
   ],
   "source": [
    "config = read_config()\n",
    "config.write(sys.stdout)\n"
   ]
  },
  {
   "cell_type": "code",
   "execution_count": 25,
   "metadata": {},
   "outputs": [
    {
     "data": {
      "text/plain": [
       "<Section: testdata>"
      ]
     },
     "execution_count": 25,
     "metadata": {},
     "output_type": "execute_result"
    }
   ],
   "source": [
    "config[\"testdata\"]\n"
   ]
  },
  {
   "cell_type": "code",
   "execution_count": 26,
   "metadata": {},
   "outputs": [
    {
     "data": {
      "text/html": [
       "<div>\n",
       "<style scoped>\n",
       "    .dataframe tbody tr th:only-of-type {\n",
       "        vertical-align: middle;\n",
       "    }\n",
       "\n",
       "    .dataframe tbody tr th {\n",
       "        vertical-align: top;\n",
       "    }\n",
       "\n",
       "    .dataframe thead th {\n",
       "        text-align: right;\n",
       "    }\n",
       "</style>\n",
       "<table border=\"1\" class=\"dataframe\">\n",
       "  <thead>\n",
       "    <tr style=\"text-align: right;\">\n",
       "      <th></th>\n",
       "      <th>A</th>\n",
       "      <th>B</th>\n",
       "      <th>C</th>\n",
       "      <th>D</th>\n",
       "    </tr>\n",
       "  </thead>\n",
       "  <tbody>\n",
       "    <tr>\n",
       "      <th>0</th>\n",
       "      <td>0.732534</td>\n",
       "      <td>1.238477</td>\n",
       "      <td>-0.641340</td>\n",
       "      <td>0.614247</td>\n",
       "    </tr>\n",
       "    <tr>\n",
       "      <th>1</th>\n",
       "      <td>0.286368</td>\n",
       "      <td>0.303226</td>\n",
       "      <td>-0.316501</td>\n",
       "      <td>-0.118536</td>\n",
       "    </tr>\n",
       "    <tr>\n",
       "      <th>2</th>\n",
       "      <td>0.178673</td>\n",
       "      <td>0.369942</td>\n",
       "      <td>-0.867840</td>\n",
       "      <td>-0.768558</td>\n",
       "    </tr>\n",
       "    <tr>\n",
       "      <th>3</th>\n",
       "      <td>-0.801875</td>\n",
       "      <td>-0.304602</td>\n",
       "      <td>1.572127</td>\n",
       "      <td>-0.920924</td>\n",
       "    </tr>\n",
       "    <tr>\n",
       "      <th>4</th>\n",
       "      <td>-1.788935</td>\n",
       "      <td>0.994850</td>\n",
       "      <td>0.053538</td>\n",
       "      <td>0.074310</td>\n",
       "    </tr>\n",
       "    <tr>\n",
       "      <th>5</th>\n",
       "      <td>0.252328</td>\n",
       "      <td>-0.249623</td>\n",
       "      <td>-0.665560</td>\n",
       "      <td>0.212088</td>\n",
       "    </tr>\n",
       "    <tr>\n",
       "      <th>6</th>\n",
       "      <td>1.600569</td>\n",
       "      <td>0.276568</td>\n",
       "      <td>-0.674965</td>\n",
       "      <td>-0.988032</td>\n",
       "    </tr>\n",
       "    <tr>\n",
       "      <th>7</th>\n",
       "      <td>-2.480121</td>\n",
       "      <td>1.355209</td>\n",
       "      <td>-1.631882</td>\n",
       "      <td>1.224277</td>\n",
       "    </tr>\n",
       "    <tr>\n",
       "      <th>8</th>\n",
       "      <td>1.094545</td>\n",
       "      <td>-2.658251</td>\n",
       "      <td>-1.092294</td>\n",
       "      <td>-0.786033</td>\n",
       "    </tr>\n",
       "    <tr>\n",
       "      <th>9</th>\n",
       "      <td>-1.920025</td>\n",
       "      <td>0.220368</td>\n",
       "      <td>0.229316</td>\n",
       "      <td>-2.109886</td>\n",
       "    </tr>\n",
       "  </tbody>\n",
       "</table>\n",
       "</div>"
      ],
      "text/plain": [
       "          A         B         C         D\n",
       "0  0.732534  1.238477 -0.641340  0.614247\n",
       "1  0.286368  0.303226 -0.316501 -0.118536\n",
       "2  0.178673  0.369942 -0.867840 -0.768558\n",
       "3 -0.801875 -0.304602  1.572127 -0.920924\n",
       "4 -1.788935  0.994850  0.053538  0.074310\n",
       "5  0.252328 -0.249623 -0.665560  0.212088\n",
       "6  1.600569  0.276568 -0.674965 -0.988032\n",
       "7 -2.480121  1.355209 -1.631882  1.224277\n",
       "8  1.094545 -2.658251 -1.092294 -0.786033\n",
       "9 -1.920025  0.220368  0.229316 -2.109886"
      ]
     },
     "execution_count": 26,
     "metadata": {},
     "output_type": "execute_result"
    }
   ],
   "source": [
    "fsdata.testdata.load(\"df\")"
   ]
  },
  {
   "cell_type": "code",
   "execution_count": 29,
   "metadata": {},
   "outputs": [
    {
     "data": {
      "text/plain": [
       "<pyarrow._parquet.FileMetaData object at 0x115d55440>\n",
       "  created_by: parquet-cpp-arrow version 18.1.0\n",
       "  num_columns: 4\n",
       "  num_rows: 10\n",
       "  num_row_groups: 1\n",
       "  format_version: 2.6\n",
       "  serialized_size: 2652"
      ]
     },
     "execution_count": 29,
     "metadata": {},
     "output_type": "execute_result"
    }
   ],
   "source": [
    "import pyarrow.parquet as pq\n",
    "\n",
    "dfpath = Path().cwd().joinpath(\"../tests/data/df.parquet\").resolve()\n",
    "\n",
    "pf = pq.ParquetFile(dfpath)\n",
    "pf.metadata"
   ]
  },
  {
   "cell_type": "code",
   "execution_count": 30,
   "metadata": {},
   "outputs": [
    {
     "data": {
      "text/plain": [
       "{'created_by': 'parquet-cpp-arrow version 18.1.0',\n",
       " 'num_columns': 4,\n",
       " 'num_rows': 10,\n",
       " 'num_row_groups': 1,\n",
       " 'row_groups': [{'num_columns': 4,\n",
       "   'num_rows': 10,\n",
       "   'total_byte_size': 692,\n",
       "   'columns': [{'file_offset': 0,\n",
       "     'file_path': '',\n",
       "     'physical_type': 'DOUBLE',\n",
       "     'num_values': 10,\n",
       "     'path_in_schema': 'A',\n",
       "     'is_stats_set': True,\n",
       "     'statistics': {'has_min_max': True,\n",
       "      'min': -2.48012075137503,\n",
       "      'max': 1.6005686002399881,\n",
       "      'null_count': 0,\n",
       "      'distinct_count': None,\n",
       "      'num_values': 10,\n",
       "      'physical_type': 'DOUBLE'},\n",
       "     'geo_statistics': None,\n",
       "     'compression': 'SNAPPY',\n",
       "     'encodings': ('PLAIN', 'RLE', 'RLE_DICTIONARY'),\n",
       "     'has_dictionary_page': True,\n",
       "     'dictionary_page_offset': 4,\n",
       "     'data_page_offset': 103,\n",
       "     'total_compressed_size': 178,\n",
       "     'total_uncompressed_size': 173},\n",
       "    {'file_offset': 0,\n",
       "     'file_path': '',\n",
       "     'physical_type': 'DOUBLE',\n",
       "     'num_values': 10,\n",
       "     'path_in_schema': 'B',\n",
       "     'is_stats_set': True,\n",
       "     'statistics': {'has_min_max': True,\n",
       "      'min': -2.6582507052449436,\n",
       "      'max': 1.3552088361010899,\n",
       "      'null_count': 0,\n",
       "      'distinct_count': None,\n",
       "      'num_values': 10,\n",
       "      'physical_type': 'DOUBLE'},\n",
       "     'geo_statistics': None,\n",
       "     'compression': 'SNAPPY',\n",
       "     'encodings': ('PLAIN', 'RLE', 'RLE_DICTIONARY'),\n",
       "     'has_dictionary_page': True,\n",
       "     'dictionary_page_offset': 182,\n",
       "     'data_page_offset': 281,\n",
       "     'total_compressed_size': 178,\n",
       "     'total_uncompressed_size': 173},\n",
       "    {'file_offset': 0,\n",
       "     'file_path': '',\n",
       "     'physical_type': 'DOUBLE',\n",
       "     'num_values': 10,\n",
       "     'path_in_schema': 'C',\n",
       "     'is_stats_set': True,\n",
       "     'statistics': {'has_min_max': True,\n",
       "      'min': -1.6318822122268724,\n",
       "      'max': 1.5721268607540921,\n",
       "      'null_count': 0,\n",
       "      'distinct_count': None,\n",
       "      'num_values': 10,\n",
       "      'physical_type': 'DOUBLE'},\n",
       "     'geo_statistics': None,\n",
       "     'compression': 'SNAPPY',\n",
       "     'encodings': ('PLAIN', 'RLE', 'RLE_DICTIONARY'),\n",
       "     'has_dictionary_page': True,\n",
       "     'dictionary_page_offset': 360,\n",
       "     'data_page_offset': 459,\n",
       "     'total_compressed_size': 178,\n",
       "     'total_uncompressed_size': 173},\n",
       "    {'file_offset': 0,\n",
       "     'file_path': '',\n",
       "     'physical_type': 'DOUBLE',\n",
       "     'num_values': 10,\n",
       "     'path_in_schema': 'D',\n",
       "     'is_stats_set': True,\n",
       "     'statistics': {'has_min_max': True,\n",
       "      'min': -2.109885950569342,\n",
       "      'max': 1.2242773799066708,\n",
       "      'null_count': 0,\n",
       "      'distinct_count': None,\n",
       "      'num_values': 10,\n",
       "      'physical_type': 'DOUBLE'},\n",
       "     'geo_statistics': None,\n",
       "     'compression': 'SNAPPY',\n",
       "     'encodings': ('PLAIN', 'RLE', 'RLE_DICTIONARY'),\n",
       "     'has_dictionary_page': True,\n",
       "     'dictionary_page_offset': 538,\n",
       "     'data_page_offset': 637,\n",
       "     'total_compressed_size': 178,\n",
       "     'total_uncompressed_size': 173}],\n",
       "   'sorting_columns': []}],\n",
       " 'format_version': '2.6',\n",
       " 'serialized_size': 2652}"
      ]
     },
     "execution_count": 30,
     "metadata": {},
     "output_type": "execute_result"
    }
   ],
   "source": [
    "pf.metadata.to_dict()"
   ]
  },
  {
   "cell_type": "code",
   "execution_count": null,
   "metadata": {},
   "outputs": [],
   "source": []
  }
 ],
 "metadata": {
  "kernelspec": {
   "display_name": "fsdata",
   "language": "python",
   "name": "python3"
  },
  "language_info": {
   "codemirror_mode": {
    "name": "ipython",
    "version": 3
   },
   "file_extension": ".py",
   "mimetype": "text/x-python",
   "name": "python",
   "nbconvert_exporter": "python",
   "pygments_lexer": "ipython3",
   "version": "3.10.14"
  }
 },
 "nbformat": 4,
 "nbformat_minor": 2
}
