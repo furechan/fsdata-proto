{
 "cells": [
  {
   "cell_type": "code",
   "execution_count": 1,
   "metadata": {},
   "outputs": [],
   "source": [
    "import os\n",
    "import sys\n",
    "\n",
    "from configparser import ConfigParser, Interpolation, ExtendedInterpolation\n",
    "\n",
    "from fsdata.testing import setup_environment\n",
    "\n",
    "\n",
    "%load_ext nbmask"
   ]
  },
  {
   "cell_type": "code",
   "execution_count": 2,
   "metadata": {},
   "outputs": [
    {
     "data": {
      "text/plain": [
       "('/Users/.../Projects/fsdata-proto',\n",
       " '/Users/.../Projects/fsdata-proto/tests/config')"
      ]
     },
     "execution_count": 2,
     "metadata": {},
     "output_type": "execute_result"
    }
   ],
   "source": [
    "setup_environment()\n",
    "\n",
    "os.environ[\"WORKDIR\"], os.environ[\"FSDATA_CONFIG_DIRS\"]\n"
   ]
  },
  {
   "cell_type": "code",
   "execution_count": 3,
   "metadata": {},
   "outputs": [],
   "source": [
    "\n",
    "class ExpandVars(Interpolation):\n",
    "    \"\"\"Interpolation which expands environment variables in values\"\"\"\n",
    "\n",
    "    def before_read(self, parser, section, option, value):\n",
    "        print(\"parsing\", value)\n",
    "        return os.path.expandvars(value)\n"
   ]
  },
  {
   "cell_type": "code",
   "execution_count": 4,
   "metadata": {},
   "outputs": [],
   "source": [
    "config = ConfigParser(interpolation=ExpandVars())\n",
    "config.write(sys.stdout)\n"
   ]
  },
  {
   "cell_type": "code",
   "execution_count": 5,
   "metadata": {},
   "outputs": [
    {
     "name": "stdout",
     "output_type": "stream",
     "text": [
      "parsing $WORKDIR/samples\n",
      "[samples]\n",
      "path = /Users/.../Projects/fsdata-proto/samples\n",
      "\n"
     ]
    }
   ],
   "source": [
    "DATA=\"\"\"\n",
    "[samples]\n",
    "path = $WORKDIR/samples\n",
    "\"\"\"\n",
    "\n",
    "config.read_string(DATA)\n",
    "config.write(sys.stdout)"
   ]
  },
  {
   "cell_type": "code",
   "execution_count": 6,
   "metadata": {},
   "outputs": [
    {
     "name": "stdout",
     "output_type": "stream",
     "text": [
      "parsing /Users/.../Projects/fsdata-proto/samples\n",
      "parsing $HOME/samples\n",
      "[samples]\n",
      "path = /Users/.../Projects/fsdata-proto/samples\n",
      "\n",
      "[extras]\n",
      "path = /Users/.../samples\n",
      "\n"
     ]
    }
   ],
   "source": [
    "DATA=\"\"\"\n",
    "[extras]\n",
    "path = $HOME/samples\n",
    "\"\"\"\n",
    "\n",
    "config.read_string(DATA)\n",
    "config.write(sys.stdout)"
   ]
  },
  {
   "cell_type": "code",
   "execution_count": 7,
   "metadata": {},
   "outputs": [
    {
     "data": {
      "text/plain": [
       "['samples', 'extras']"
      ]
     },
     "execution_count": 7,
     "metadata": {},
     "output_type": "execute_result"
    }
   ],
   "source": [
    "config.sections()"
   ]
  },
  {
   "cell_type": "code",
   "execution_count": null,
   "metadata": {},
   "outputs": [],
   "source": []
  },
  {
   "cell_type": "code",
   "execution_count": null,
   "metadata": {},
   "outputs": [],
   "source": []
  }
 ],
 "metadata": {
  "kernelspec": {
   "display_name": "fsdata",
   "language": "python",
   "name": "python3"
  },
  "language_info": {
   "codemirror_mode": {
    "name": "ipython",
    "version": 3
   },
   "file_extension": ".py",
   "mimetype": "text/x-python",
   "name": "python",
   "nbconvert_exporter": "python",
   "pygments_lexer": "ipython3",
   "version": "3.10.14"
  }
 },
 "nbformat": 4,
 "nbformat_minor": 2
}
