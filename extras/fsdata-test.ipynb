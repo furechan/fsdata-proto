{
 "cells": [
  {
   "cell_type": "code",
   "execution_count": 70,
   "metadata": {},
   "outputs": [
    {
     "name": "stdout",
     "output_type": "stream",
     "text": [
      "The nbmask extension is already loaded. To reload it, use:\n",
      "  %reload_ext nbmask\n"
     ]
    }
   ],
   "source": [
    "import os\n",
    "import sys\n",
    "import fsdata\n",
    "\n",
    "import numpy as np\n",
    "import pandas as pd\n",
    "\n",
    "from pathlib import Path\n",
    "\n",
    "%load_ext nbmask"
   ]
  },
  {
   "cell_type": "code",
   "execution_count": 71,
   "metadata": {},
   "outputs": [],
   "source": [
    "workdir = Path.cwd().parent\n",
    "\n",
    "config_dir = workdir.joinpath(\"tests\", \"config\")\n",
    "\n",
    "os.environ[\"FSDATA_CONFIG_DIRS\"] = config_dir.as_posix()\n",
    "os.environ[\"WORKDIR\"] = workdir.as_posix()\n"
   ]
  },
  {
   "cell_type": "code",
   "execution_count": 72,
   "metadata": {},
   "outputs": [
    {
     "name": "stdout",
     "output_type": "stream",
     "text": [
      "[samples]\n",
      "path = $WORKDIR/tests/samples\n",
      "\n"
     ]
    }
   ],
   "source": [
    "config = fsdata.read_config()\n",
    "config.write(sys.stdout)\n"
   ]
  },
  {
   "cell_type": "code",
   "execution_count": 73,
   "metadata": {},
   "outputs": [
    {
     "data": {
      "text/plain": [
       "'/Users/.../Projects/fsdata-proto/tests/samples'"
      ]
     },
     "execution_count": 73,
     "metadata": {},
     "output_type": "execute_result"
    }
   ],
   "source": [
    "config.get(\"samples\", \"path\")\n"
   ]
  },
  {
   "cell_type": "code",
   "execution_count": 74,
   "metadata": {},
   "outputs": [
    {
     "data": {
      "text/plain": [
       "['/Users/.../Projects/fsdata-proto/tests/config']"
      ]
     },
     "execution_count": 74,
     "metadata": {},
     "output_type": "execute_result"
    }
   ],
   "source": [
    "fsdata.config_dirs()\n"
   ]
  },
  {
   "cell_type": "code",
   "execution_count": 75,
   "metadata": {},
   "outputs": [
    {
     "data": {
      "text/plain": [
       "['Collection', 'samples']"
      ]
     },
     "execution_count": 75,
     "metadata": {},
     "output_type": "execute_result"
    }
   ],
   "source": [
    "dir(fsdata)\n"
   ]
  },
  {
   "cell_type": "code",
   "execution_count": 76,
   "metadata": {},
   "outputs": [
    {
     "name": "stdout",
     "output_type": "stream",
     "text": [
      "_getattr__ samples\n"
     ]
    }
   ],
   "source": [
    "from fsdata import samples\n",
    "# samples"
   ]
  },
  {
   "cell_type": "code",
   "execution_count": 77,
   "metadata": {},
   "outputs": [],
   "source": [
    "from fsdata import samples\n",
    "\n"
   ]
  },
  {
   "cell_type": "code",
   "execution_count": 78,
   "metadata": {},
   "outputs": [
    {
     "data": {
      "text/plain": [
       "['df']"
      ]
     },
     "execution_count": 78,
     "metadata": {},
     "output_type": "execute_result"
    }
   ],
   "source": [
    "\n",
    "\n",
    "samples.items()"
   ]
  },
  {
   "cell_type": "code",
   "execution_count": 79,
   "metadata": {},
   "outputs": [
    {
     "data": {
      "text/plain": [
       "<configparser.ConfigParser at 0x107932fd0>"
      ]
     },
     "execution_count": 79,
     "metadata": {},
     "output_type": "execute_result"
    }
   ],
   "source": [
    "config = fsdata.read_config()   \n",
    "config"
   ]
  },
  {
   "cell_type": "code",
   "execution_count": 80,
   "metadata": {},
   "outputs": [
    {
     "data": {
      "text/plain": [
       "['samples']"
      ]
     },
     "execution_count": 80,
     "metadata": {},
     "output_type": "execute_result"
    }
   ],
   "source": [
    "config.sections()"
   ]
  },
  {
   "cell_type": "code",
   "execution_count": 81,
   "metadata": {},
   "outputs": [
    {
     "name": "stdout",
     "output_type": "stream",
     "text": [
      "[samples]\n",
      "path = $WORKDIR/tests/samples\n",
      "\n"
     ]
    }
   ],
   "source": [
    "config.write(sys.stdout)"
   ]
  },
  {
   "cell_type": "code",
   "execution_count": 82,
   "metadata": {},
   "outputs": [
    {
     "data": {
      "text/html": [
       "<div>\n",
       "<style scoped>\n",
       "    .dataframe tbody tr th:only-of-type {\n",
       "        vertical-align: middle;\n",
       "    }\n",
       "\n",
       "    .dataframe tbody tr th {\n",
       "        vertical-align: top;\n",
       "    }\n",
       "\n",
       "    .dataframe thead th {\n",
       "        text-align: right;\n",
       "    }\n",
       "</style>\n",
       "<table border=\"1\" class=\"dataframe\">\n",
       "  <thead>\n",
       "    <tr style=\"text-align: right;\">\n",
       "      <th></th>\n",
       "      <th>A</th>\n",
       "      <th>B</th>\n",
       "      <th>C</th>\n",
       "      <th>D</th>\n",
       "    </tr>\n",
       "  </thead>\n",
       "  <tbody>\n",
       "    <tr>\n",
       "      <th>0</th>\n",
       "      <td>0.732534</td>\n",
       "      <td>1.238477</td>\n",
       "      <td>-0.641340</td>\n",
       "      <td>0.614247</td>\n",
       "    </tr>\n",
       "    <tr>\n",
       "      <th>1</th>\n",
       "      <td>0.286368</td>\n",
       "      <td>0.303226</td>\n",
       "      <td>-0.316501</td>\n",
       "      <td>-0.118536</td>\n",
       "    </tr>\n",
       "    <tr>\n",
       "      <th>2</th>\n",
       "      <td>0.178673</td>\n",
       "      <td>0.369942</td>\n",
       "      <td>-0.867840</td>\n",
       "      <td>-0.768558</td>\n",
       "    </tr>\n",
       "    <tr>\n",
       "      <th>3</th>\n",
       "      <td>-0.801875</td>\n",
       "      <td>-0.304602</td>\n",
       "      <td>1.572127</td>\n",
       "      <td>-0.920924</td>\n",
       "    </tr>\n",
       "    <tr>\n",
       "      <th>4</th>\n",
       "      <td>-1.788935</td>\n",
       "      <td>0.994850</td>\n",
       "      <td>0.053538</td>\n",
       "      <td>0.074310</td>\n",
       "    </tr>\n",
       "    <tr>\n",
       "      <th>5</th>\n",
       "      <td>0.252328</td>\n",
       "      <td>-0.249623</td>\n",
       "      <td>-0.665560</td>\n",
       "      <td>0.212088</td>\n",
       "    </tr>\n",
       "    <tr>\n",
       "      <th>6</th>\n",
       "      <td>1.600569</td>\n",
       "      <td>0.276568</td>\n",
       "      <td>-0.674965</td>\n",
       "      <td>-0.988032</td>\n",
       "    </tr>\n",
       "    <tr>\n",
       "      <th>7</th>\n",
       "      <td>-2.480121</td>\n",
       "      <td>1.355209</td>\n",
       "      <td>-1.631882</td>\n",
       "      <td>1.224277</td>\n",
       "    </tr>\n",
       "    <tr>\n",
       "      <th>8</th>\n",
       "      <td>1.094545</td>\n",
       "      <td>-2.658251</td>\n",
       "      <td>-1.092294</td>\n",
       "      <td>-0.786033</td>\n",
       "    </tr>\n",
       "    <tr>\n",
       "      <th>9</th>\n",
       "      <td>-1.920025</td>\n",
       "      <td>0.220368</td>\n",
       "      <td>0.229316</td>\n",
       "      <td>-2.109886</td>\n",
       "    </tr>\n",
       "  </tbody>\n",
       "</table>\n",
       "</div>"
      ],
      "text/plain": [
       "          A         B         C         D\n",
       "0  0.732534  1.238477 -0.641340  0.614247\n",
       "1  0.286368  0.303226 -0.316501 -0.118536\n",
       "2  0.178673  0.369942 -0.867840 -0.768558\n",
       "3 -0.801875 -0.304602  1.572127 -0.920924\n",
       "4 -1.788935  0.994850  0.053538  0.074310\n",
       "5  0.252328 -0.249623 -0.665560  0.212088\n",
       "6  1.600569  0.276568 -0.674965 -0.988032\n",
       "7 -2.480121  1.355209 -1.631882  1.224277\n",
       "8  1.094545 -2.658251 -1.092294 -0.786033\n",
       "9 -1.920025  0.220368  0.229316 -2.109886"
      ]
     },
     "execution_count": 82,
     "metadata": {},
     "output_type": "execute_result"
    }
   ],
   "source": [
    "df = pd.DataFrame(np.random.randn(10, 4), columns=list('ABCD'))\n",
    "df"
   ]
  },
  {
   "cell_type": "code",
   "execution_count": 83,
   "metadata": {},
   "outputs": [
    {
     "data": {
      "text/plain": [
       "['df']"
      ]
     },
     "execution_count": 83,
     "metadata": {},
     "output_type": "execute_result"
    }
   ],
   "source": [
    "samples.save(\"df\", df)\n",
    "samples.items()"
   ]
  },
  {
   "cell_type": "code",
   "execution_count": 84,
   "metadata": {},
   "outputs": [
    {
     "data": {
      "text/html": [
       "<div>\n",
       "<style scoped>\n",
       "    .dataframe tbody tr th:only-of-type {\n",
       "        vertical-align: middle;\n",
       "    }\n",
       "\n",
       "    .dataframe tbody tr th {\n",
       "        vertical-align: top;\n",
       "    }\n",
       "\n",
       "    .dataframe thead th {\n",
       "        text-align: right;\n",
       "    }\n",
       "</style>\n",
       "<table border=\"1\" class=\"dataframe\">\n",
       "  <thead>\n",
       "    <tr style=\"text-align: right;\">\n",
       "      <th></th>\n",
       "      <th>A</th>\n",
       "      <th>B</th>\n",
       "      <th>C</th>\n",
       "      <th>D</th>\n",
       "    </tr>\n",
       "  </thead>\n",
       "  <tbody>\n",
       "    <tr>\n",
       "      <th>0</th>\n",
       "      <td>0.732534</td>\n",
       "      <td>1.238477</td>\n",
       "      <td>-0.641340</td>\n",
       "      <td>0.614247</td>\n",
       "    </tr>\n",
       "    <tr>\n",
       "      <th>1</th>\n",
       "      <td>0.286368</td>\n",
       "      <td>0.303226</td>\n",
       "      <td>-0.316501</td>\n",
       "      <td>-0.118536</td>\n",
       "    </tr>\n",
       "    <tr>\n",
       "      <th>2</th>\n",
       "      <td>0.178673</td>\n",
       "      <td>0.369942</td>\n",
       "      <td>-0.867840</td>\n",
       "      <td>-0.768558</td>\n",
       "    </tr>\n",
       "    <tr>\n",
       "      <th>3</th>\n",
       "      <td>-0.801875</td>\n",
       "      <td>-0.304602</td>\n",
       "      <td>1.572127</td>\n",
       "      <td>-0.920924</td>\n",
       "    </tr>\n",
       "    <tr>\n",
       "      <th>4</th>\n",
       "      <td>-1.788935</td>\n",
       "      <td>0.994850</td>\n",
       "      <td>0.053538</td>\n",
       "      <td>0.074310</td>\n",
       "    </tr>\n",
       "    <tr>\n",
       "      <th>5</th>\n",
       "      <td>0.252328</td>\n",
       "      <td>-0.249623</td>\n",
       "      <td>-0.665560</td>\n",
       "      <td>0.212088</td>\n",
       "    </tr>\n",
       "    <tr>\n",
       "      <th>6</th>\n",
       "      <td>1.600569</td>\n",
       "      <td>0.276568</td>\n",
       "      <td>-0.674965</td>\n",
       "      <td>-0.988032</td>\n",
       "    </tr>\n",
       "    <tr>\n",
       "      <th>7</th>\n",
       "      <td>-2.480121</td>\n",
       "      <td>1.355209</td>\n",
       "      <td>-1.631882</td>\n",
       "      <td>1.224277</td>\n",
       "    </tr>\n",
       "    <tr>\n",
       "      <th>8</th>\n",
       "      <td>1.094545</td>\n",
       "      <td>-2.658251</td>\n",
       "      <td>-1.092294</td>\n",
       "      <td>-0.786033</td>\n",
       "    </tr>\n",
       "    <tr>\n",
       "      <th>9</th>\n",
       "      <td>-1.920025</td>\n",
       "      <td>0.220368</td>\n",
       "      <td>0.229316</td>\n",
       "      <td>-2.109886</td>\n",
       "    </tr>\n",
       "  </tbody>\n",
       "</table>\n",
       "</div>"
      ],
      "text/plain": [
       "          A         B         C         D\n",
       "0  0.732534  1.238477 -0.641340  0.614247\n",
       "1  0.286368  0.303226 -0.316501 -0.118536\n",
       "2  0.178673  0.369942 -0.867840 -0.768558\n",
       "3 -0.801875 -0.304602  1.572127 -0.920924\n",
       "4 -1.788935  0.994850  0.053538  0.074310\n",
       "5  0.252328 -0.249623 -0.665560  0.212088\n",
       "6  1.600569  0.276568 -0.674965 -0.988032\n",
       "7 -2.480121  1.355209 -1.631882  1.224277\n",
       "8  1.094545 -2.658251 -1.092294 -0.786033\n",
       "9 -1.920025  0.220368  0.229316 -2.109886"
      ]
     },
     "execution_count": 84,
     "metadata": {},
     "output_type": "execute_result"
    }
   ],
   "source": [
    "samples.load(\"df\")"
   ]
  },
  {
   "cell_type": "code",
   "execution_count": 85,
   "metadata": {},
   "outputs": [
    {
     "data": {
      "text/plain": [
       "['Collection', 'samples']"
      ]
     },
     "execution_count": 85,
     "metadata": {},
     "output_type": "execute_result"
    }
   ],
   "source": [
    "dir(fsdata)"
   ]
  },
  {
   "cell_type": "code",
   "execution_count": 86,
   "metadata": {},
   "outputs": [],
   "source": [
    "from fsdata import samples"
   ]
  },
  {
   "cell_type": "code",
   "execution_count": null,
   "metadata": {},
   "outputs": [],
   "source": []
  }
 ],
 "metadata": {
  "kernelspec": {
   "display_name": ".venv",
   "language": "python",
   "name": "python3"
  },
  "language_info": {
   "codemirror_mode": {
    "name": "ipython",
    "version": 3
   },
   "file_extension": ".py",
   "mimetype": "text/x-python",
   "name": "python",
   "nbconvert_exporter": "python",
   "pygments_lexer": "ipython3",
   "version": "3.13.0"
  }
 },
 "nbformat": 4,
 "nbformat_minor": 2
}
