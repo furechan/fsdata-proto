{
 "cells": [
  {
   "cell_type": "code",
   "execution_count": null,
   "metadata": {},
   "outputs": [],
   "source": [
    "import os\n",
    "import sys\n",
    "\n",
    "import fsdata\n",
    "\n",
    "from pathlib import Path\n",
    "\n",
    "from fsdata.config import read_config\n",
    "from fsdata.testing import setup_environment\n",
    "\n",
    "setup_environment()\n",
    "\n",
    "%load_ext nbmask"
   ]
  },
  {
   "cell_type": "code",
   "execution_count": 2,
   "metadata": {},
   "outputs": [
    {
     "name": "stdout",
     "output_type": "stream",
     "text": [
      "[testdata]\n",
      "path = /Users/frederic/Projects/fsdata-proto/tests/data\n",
      "\n"
     ]
    }
   ],
   "source": [
    "config = read_config()\n",
    "config.write(sys.stdout)\n"
   ]
  },
  {
   "cell_type": "code",
   "execution_count": 3,
   "metadata": {},
   "outputs": [
    {
     "data": {
      "text/plain": [
       "['sample']"
      ]
     },
     "execution_count": 3,
     "metadata": {},
     "output_type": "execute_result"
    }
   ],
   "source": [
    "testdata = fsdata.get(\"testdata\")\n",
    "\n",
    "testdata.items()\n"
   ]
  },
  {
   "cell_type": "code",
   "execution_count": 4,
   "metadata": {},
   "outputs": [
    {
     "data": {
      "text/html": [
       "<div>\n",
       "<style scoped>\n",
       "    .dataframe tbody tr th:only-of-type {\n",
       "        vertical-align: middle;\n",
       "    }\n",
       "\n",
       "    .dataframe tbody tr th {\n",
       "        vertical-align: top;\n",
       "    }\n",
       "\n",
       "    .dataframe thead th {\n",
       "        text-align: right;\n",
       "    }\n",
       "</style>\n",
       "<table border=\"1\" class=\"dataframe\">\n",
       "  <thead>\n",
       "    <tr style=\"text-align: right;\">\n",
       "      <th></th>\n",
       "      <th>A</th>\n",
       "      <th>B</th>\n",
       "      <th>C</th>\n",
       "      <th>D</th>\n",
       "    </tr>\n",
       "  </thead>\n",
       "  <tbody>\n",
       "    <tr>\n",
       "      <th>0</th>\n",
       "      <td>0.732534</td>\n",
       "      <td>1.238477</td>\n",
       "      <td>-0.641340</td>\n",
       "      <td>0.614247</td>\n",
       "    </tr>\n",
       "    <tr>\n",
       "      <th>1</th>\n",
       "      <td>0.286368</td>\n",
       "      <td>0.303226</td>\n",
       "      <td>-0.316501</td>\n",
       "      <td>-0.118536</td>\n",
       "    </tr>\n",
       "    <tr>\n",
       "      <th>2</th>\n",
       "      <td>0.178673</td>\n",
       "      <td>0.369942</td>\n",
       "      <td>-0.867840</td>\n",
       "      <td>-0.768558</td>\n",
       "    </tr>\n",
       "    <tr>\n",
       "      <th>3</th>\n",
       "      <td>-0.801875</td>\n",
       "      <td>-0.304602</td>\n",
       "      <td>1.572127</td>\n",
       "      <td>-0.920924</td>\n",
       "    </tr>\n",
       "    <tr>\n",
       "      <th>4</th>\n",
       "      <td>-1.788935</td>\n",
       "      <td>0.994850</td>\n",
       "      <td>0.053538</td>\n",
       "      <td>0.074310</td>\n",
       "    </tr>\n",
       "    <tr>\n",
       "      <th>5</th>\n",
       "      <td>0.252328</td>\n",
       "      <td>-0.249623</td>\n",
       "      <td>-0.665560</td>\n",
       "      <td>0.212088</td>\n",
       "    </tr>\n",
       "    <tr>\n",
       "      <th>6</th>\n",
       "      <td>1.600569</td>\n",
       "      <td>0.276568</td>\n",
       "      <td>-0.674965</td>\n",
       "      <td>-0.988032</td>\n",
       "    </tr>\n",
       "    <tr>\n",
       "      <th>7</th>\n",
       "      <td>-2.480121</td>\n",
       "      <td>1.355209</td>\n",
       "      <td>-1.631882</td>\n",
       "      <td>1.224277</td>\n",
       "    </tr>\n",
       "    <tr>\n",
       "      <th>8</th>\n",
       "      <td>1.094545</td>\n",
       "      <td>-2.658251</td>\n",
       "      <td>-1.092294</td>\n",
       "      <td>-0.786033</td>\n",
       "    </tr>\n",
       "    <tr>\n",
       "      <th>9</th>\n",
       "      <td>-1.920025</td>\n",
       "      <td>0.220368</td>\n",
       "      <td>0.229316</td>\n",
       "      <td>-2.109886</td>\n",
       "    </tr>\n",
       "  </tbody>\n",
       "</table>\n",
       "</div>"
      ],
      "text/plain": [
       "          A         B         C         D\n",
       "0  0.732534  1.238477 -0.641340  0.614247\n",
       "1  0.286368  0.303226 -0.316501 -0.118536\n",
       "2  0.178673  0.369942 -0.867840 -0.768558\n",
       "3 -0.801875 -0.304602  1.572127 -0.920924\n",
       "4 -1.788935  0.994850  0.053538  0.074310\n",
       "5  0.252328 -0.249623 -0.665560  0.212088\n",
       "6  1.600569  0.276568 -0.674965 -0.988032\n",
       "7 -2.480121  1.355209 -1.631882  1.224277\n",
       "8  1.094545 -2.658251 -1.092294 -0.786033\n",
       "9 -1.920025  0.220368  0.229316 -2.109886"
      ]
     },
     "execution_count": 4,
     "metadata": {},
     "output_type": "execute_result"
    }
   ],
   "source": [
    "testdata.load(\"sample\")"
   ]
  },
  {
   "cell_type": "code",
   "execution_count": null,
   "metadata": {},
   "outputs": [],
   "source": []
  },
  {
   "cell_type": "code",
   "execution_count": null,
   "metadata": {},
   "outputs": [],
   "source": []
  },
  {
   "cell_type": "code",
   "execution_count": null,
   "metadata": {},
   "outputs": [],
   "source": []
  }
 ],
 "metadata": {
  "kernelspec": {
   "display_name": "fsdata",
   "language": "python",
   "name": "python3"
  },
  "language_info": {
   "codemirror_mode": {
    "name": "ipython",
    "version": 3
   },
   "file_extension": ".py",
   "mimetype": "text/x-python",
   "name": "python",
   "nbconvert_exporter": "python",
   "pygments_lexer": "ipython3",
   "version": "3.10.14"
  }
 },
 "nbformat": 4,
 "nbformat_minor": 2
}
