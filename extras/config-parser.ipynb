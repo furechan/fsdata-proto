{
 "cells": [
  {
   "cell_type": "code",
   "execution_count": 18,
   "metadata": {},
   "outputs": [
    {
     "name": "stdout",
     "output_type": "stream",
     "text": [
      "The nbmask extension is already loaded. To reload it, use:\n",
      "  %reload_ext nbmask\n"
     ]
    }
   ],
   "source": [
    "import os\n",
    "import sys\n",
    "\n",
    "from pathlib import Path\n",
    "\n",
    "from configparser import ConfigParser, Interpolation, ExtendedInterpolation\n",
    "\n",
    "workdir = Path.cwd().parent\n",
    "\n",
    "config_dir = workdir.joinpath(\"tests\", \"config\")\n",
    "\n",
    "os.environ[\"WORKDIR\"] = workdir.as_posix()\n",
    "os.environ[\"FSDATA_CONFIG_DIRS\"] = config_dir.as_posix()\n",
    "\n",
    "%load_ext nbmask"
   ]
  },
  {
   "cell_type": "code",
   "execution_count": 19,
   "metadata": {},
   "outputs": [],
   "source": [
    "class ExpandVars(Interpolation):\n",
    "    \"\"\"Interpolation which expands environment variables in values\"\"\"\n",
    "\n",
    "    def before_read(self, parser, section, option, value):\n",
    "        return os.path.expandvars(value)\n"
   ]
  },
  {
   "cell_type": "code",
   "execution_count": 20,
   "metadata": {},
   "outputs": [],
   "source": [
    "config = ConfigParser(interpolation=ExpandVars())\n",
    "config.write(sys.stdout)\n"
   ]
  },
  {
   "cell_type": "code",
   "execution_count": 21,
   "metadata": {},
   "outputs": [
    {
     "name": "stdout",
     "output_type": "stream",
     "text": [
      "[samples]\n",
      "path = /Users/.../Projects/fsdata-proto/samples\n",
      "\n"
     ]
    }
   ],
   "source": [
    "DATA=\"\"\"\n",
    "[samples]\n",
    "path = $WORKDIR/samples\n",
    "\"\"\"\n",
    "\n",
    "config.read_string(DATA)\n",
    "config.write(sys.stdout)"
   ]
  },
  {
   "cell_type": "code",
   "execution_count": 22,
   "metadata": {},
   "outputs": [
    {
     "data": {
      "text/plain": [
       "'/Users/.../Projects/fsdata-proto/samples'"
      ]
     },
     "execution_count": 22,
     "metadata": {},
     "output_type": "execute_result"
    }
   ],
   "source": [
    "config.get('samples', 'path')\n"
   ]
  },
  {
   "cell_type": "code",
   "execution_count": 23,
   "metadata": {},
   "outputs": [
    {
     "name": "stdout",
     "output_type": "stream",
     "text": [
      "[samples]\n",
      "path = /Users/.../Projects/fsdata-proto/samples\n",
      "\n",
      "[extras]\n",
      "path = /Users/.../samples\n",
      "\n"
     ]
    }
   ],
   "source": [
    "DATA=\"\"\"\n",
    "[extras]\n",
    "path = $HOME/samples\n",
    "\"\"\"\n",
    "\n",
    "config.read_string(DATA)\n",
    "config.write(sys.stdout)"
   ]
  },
  {
   "cell_type": "code",
   "execution_count": 24,
   "metadata": {},
   "outputs": [
    {
     "data": {
      "text/plain": [
       "'/Users/.../Projects/fsdata-proto/samples'"
      ]
     },
     "execution_count": 24,
     "metadata": {},
     "output_type": "execute_result"
    }
   ],
   "source": [
    "config.get('samples', 'path')\n"
   ]
  },
  {
   "cell_type": "code",
   "execution_count": 25,
   "metadata": {},
   "outputs": [
    {
     "data": {
      "text/plain": [
       "['samples', 'extras']"
      ]
     },
     "execution_count": 25,
     "metadata": {},
     "output_type": "execute_result"
    }
   ],
   "source": [
    "config.sections()"
   ]
  },
  {
   "cell_type": "code",
   "execution_count": null,
   "metadata": {},
   "outputs": [],
   "source": []
  },
  {
   "cell_type": "code",
   "execution_count": null,
   "metadata": {},
   "outputs": [],
   "source": []
  }
 ],
 "metadata": {
  "kernelspec": {
   "display_name": ".venv",
   "language": "python",
   "name": "python3"
  },
  "language_info": {
   "codemirror_mode": {
    "name": "ipython",
    "version": 3
   },
   "file_extension": ".py",
   "mimetype": "text/x-python",
   "name": "python",
   "nbconvert_exporter": "python",
   "pygments_lexer": "ipython3",
   "version": "3.13.0"
  }
 },
 "nbformat": 4,
 "nbformat_minor": 2
}
