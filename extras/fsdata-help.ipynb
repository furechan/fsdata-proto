{
 "cells": [
  {
   "cell_type": "code",
   "execution_count": 1,
   "metadata": {},
   "outputs": [
    {
     "name": "stdout",
     "output_type": "stream",
     "text": [
      "Help on package fsdata:\n",
      "\n",
      "NAME\n",
      "    fsdata - fsdata\n",
      "\n",
      "DESCRIPTION\n",
      "    Collections of data files in a directory or cloud location.\n",
      "    Locations are represendted as local path or valid cloud urls.\n",
      "    Data is saved as parquet files with the extension `.parquet`\n",
      "    \n",
      "    Configuration file `fsdata.ini`\n",
      "    \n",
      "    Sample configuration:\n",
      "    \n",
      "    [samples]\n",
      "    path = $HOME/samples\n",
      "\n",
      "PACKAGE CONTENTS\n",
      "    collection\n",
      "    config\n",
      "    utils\n",
      "\n",
      "CLASSES\n",
      "    builtins.object\n",
      "        fsdata.collection.Collection\n",
      "    \n",
      "    class Collection(builtins.object)\n",
      "     |  Collection(name: str, path: str)\n",
      "     |  \n",
      "     |  collection of data files\n",
      "     |  \n",
      "     |  Methods defined here:\n",
      "     |  \n",
      "     |  __init__(self, name: str, path: str)\n",
      "     |      Initialize self.  See help(type(self)) for accurate signature.\n",
      "     |  \n",
      "     |  __repr__(self)\n",
      "     |      Return repr(self).\n",
      "     |  \n",
      "     |  items(self)\n",
      "     |  \n",
      "     |  load(self, name)\n",
      "     |  \n",
      "     |  remove(self, name)\n",
      "     |  \n",
      "     |  save(self, name, data)\n",
      "     |  \n",
      "     |  ----------------------------------------------------------------------\n",
      "     |  Data descriptors defined here:\n",
      "     |  \n",
      "     |  __dict__\n",
      "     |      dictionary for instance variables (if defined)\n",
      "     |  \n",
      "     |  __weakref__\n",
      "     |      list of weak references to the object (if defined)\n",
      "\n",
      "FILE\n",
      "    /Users/frederic/Projects/fsdata-proto/src/fsdata/__init__.py\n",
      "\n",
      "\n"
     ]
    }
   ],
   "source": [
    "import fsdata\n",
    "\n",
    "help(fsdata)"
   ]
  },
  {
   "cell_type": "code",
   "execution_count": null,
   "metadata": {},
   "outputs": [],
   "source": []
  }
 ],
 "metadata": {
  "kernelspec": {
   "display_name": "fsdata",
   "language": "python",
   "name": "python3"
  },
  "language_info": {
   "codemirror_mode": {
    "name": "ipython",
    "version": 3
   },
   "file_extension": ".py",
   "mimetype": "text/x-python",
   "name": "python",
   "nbconvert_exporter": "python",
   "pygments_lexer": "ipython3",
   "version": "3.10.14"
  }
 },
 "nbformat": 4,
 "nbformat_minor": 2
}
